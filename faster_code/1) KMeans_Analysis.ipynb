{
 "cells": [
  {
   "cell_type": "markdown",
   "metadata": {},
   "source": [
    "# Import cell"
   ]
  },
  {
   "cell_type": "code",
   "execution_count": 1,
   "metadata": {},
   "outputs": [
    {
     "data": {
      "text/html": [
       "<style>.container { width:100% !important; }</style>"
      ],
      "text/plain": [
       "<IPython.core.display.HTML object>"
      ]
     },
     "metadata": {},
     "output_type": "display_data"
    }
   ],
   "source": [
    "from IPython.core.display import display, HTML\n",
    "display(HTML(\"<style>.container { width:100% !important; }</style>\"))\n",
    "\n",
    "import numpy as np\n",
    "import pandas as pd\n",
    "import matplotlib.pyplot as plt\n",
    "from sklearn.cluster import KMeans\n",
    "import matplotlib.colors\n",
    "import warnings\n",
    "from matplotlib.ticker import FormatStrFormatter\n",
    "import matplotlib.pyplot as plt\n",
    "from scipy import io\n",
    "import numpy as np\n",
    "import os\n",
    "import os.path\n",
    "from matplotlib import cm\n",
    "from scipy.signal import savgol_filter as sg\n",
    "from scipy import interpolate\n",
    "\n",
    "warnings.filterwarnings('ignore')"
   ]
  },
  {
   "cell_type": "markdown",
   "metadata": {},
   "source": [
    "# Instructions"
   ]
  },
  {
   "cell_type": "markdown",
   "metadata": {},
   "source": [
    "1. Set global parameters <br>\n",
    "       a. global_n: An interger. How many components do you want to have? \n",
    "       c. save_path/add_in_save: Just where to save the figures etc.\n",
    "2. Run all cells."
   ]
  },
  {
   "cell_type": "markdown",
   "metadata": {},
   "source": [
    "# Global Parameters"
   ]
  },
  {
   "cell_type": "code",
   "execution_count": 2,
   "metadata": {
    "scrolled": true
   },
   "outputs": [],
   "source": [
    "savebase = './'        #Where to save figures\n",
    "global_n = 8           # Number of components in kmeans analysis\n",
    "add_in_save = ''       # Add into the figure save name\n",
    "\n",
    "path_to_data = './'   # Where is the data? If you keep it in a local folder named 'Raw_Data', there is no need to change this"
   ]
  },
  {
   "cell_type": "markdown",
   "metadata": {},
   "source": [
    "# References"
   ]
  },
  {
   "cell_type": "markdown",
   "metadata": {},
   "source": [
    "[1]  J. C. Agar, Y. Cao, B. Naul, S. Pandya, S. van der Walt, A. I. Luo, J. T. Maher, N. Balke, S. Jesse,S. V. Kalinin, R. K. Vasudevan,  and L. W. Martin, Advanced Materials 30, 1800701 (2018). <br>\n",
    "[2]  J. C. Agar, B. Naul, S. Pandya, S. van der Walt, J. Maher, Y. Ren, L.-Q. Chen, S. V. Kalinin, R. K.Vasudevan, Y. Cao, J. S. Bloom,  and L. W. Martin, Nature Communications 10, 4809 (2019)"
   ]
  },
  {
   "cell_type": "markdown",
   "metadata": {},
   "source": [
    "# Import and Clean Their Data"
   ]
  },
  {
   "cell_type": "markdown",
   "metadata": {},
   "source": [
    "Import the data with scipy, which provides functions for loading matlab files"
   ]
  },
  {
   "cell_type": "code",
   "execution_count": 2,
   "metadata": {},
   "outputs": [
    {
     "name": "stdout",
     "output_type": "stream",
     "text": [
      "'1) KMeans_Analysis.ipynb'  '4,5) DictLearn_CompAlphaStudy.ipynb'   loop_1.mat\r\n",
      "'2) Error_Analysis.ipynb'    Data.mat\r\n"
     ]
    }
   ],
   "source": [
    "ls"
   ]
  },
  {
   "cell_type": "code",
   "execution_count": 3,
   "metadata": {},
   "outputs": [],
   "source": [
    "# imports the raw band excitation data\n",
    "imported = {'data': io.matlab.loadmat('Data.mat'),\n",
    "            'validation_data': io.matlab.loadmat('loop_1.mat')}\n",
    "\n",
    "# extracts the important information from the raw data\n",
    "raw = {'voltage': imported['data']['Voltagedata_mixed'],\n",
    "       'piezoresponse': imported['data']['Loopdata_mixed'],\n",
    "       'amplitude': imported['data']['OutA2_mixed'],\n",
    "       'phase': imported['data']['OutPhi2_mixed'],\n",
    "       'resonance': imported['data']['Outw2_mixed'],\n",
    "       'quality_factor': imported['data']['OutQ2_mixed'],\n",
    "       'val_piezoresponse': imported['validation_data']['piezo_1'],\n",
    "       'val_resonance': imported['validation_data']['resonance_loop_1'],\n",
    "       #'pr_1': imported['data']['OutA1_mixed']*np.sin(np.deg2rad(imported['data']['OutPhi1_mixed'])),\n",
    "       'pr_1': imported['validation_data']['piezo_1'],\n",
    "       'res_1': imported['data']['Outw1_mixed'],\n",
    "       'amp_1': imported['data']['OutA1_mixed'],\n",
    "       'ph_1': imported['data']['OutPhi1_mixed'],\n",
    "       'q_1': imported['data']['OutQ1_mixed'],}"
   ]
  },
  {
   "cell_type": "markdown",
   "metadata": {},
   "source": [
    "The cleaning functions and comments obtained from Agar et. al [1,2] <br>"
   ]
  },
  {
   "cell_type": "code",
   "execution_count": 4,
   "metadata": {},
   "outputs": [],
   "source": [
    "def range_filter(data, ranges):\n",
    "    \"\"\"\n",
    "    includes only data within a range of values as selected by the user.\\n\n",
    "\n",
    "    Parameters\n",
    "    ----------\n",
    "    data : numpy array\n",
    "        array of loops\n",
    "    ranges : array\n",
    "        range of values to include\n",
    "\n",
    "    Returns\n",
    "    -------\n",
    "    data : numpy array\n",
    "        array of loops\n",
    "    \"\"\"\n",
    "    # checks if data is 3 dimensions\n",
    "    if data.ndim == 3:\n",
    "\n",
    "        # manually removes values which are too high or too low\n",
    "        for i in range(data.shape[0]):\n",
    "\n",
    "            for j in range(data.shape[1]):\n",
    "\n",
    "                # finds low and high values\n",
    "                low = data[i, j] < min(ranges)\n",
    "                high = data[i, j] > max(ranges)\n",
    "                outliers = np.where(low + high)\n",
    "\n",
    "                # removes found values and sets = nan\n",
    "                data[i, j, outliers] = np.nan\n",
    "    else:\n",
    "\n",
    "        raise ValueError('Input data does not have a valid dimension')\n",
    "\n",
    "    return data\n",
    "\n",
    "\n",
    "def clean_interpolate(data, fit_type='spline'):\n",
    "    \"\"\"\n",
    "    Function which removes bad data points\n",
    "\n",
    "    Parameters\n",
    "    ----------\n",
    "    data : numpy, float\n",
    "        data to clean\n",
    "    fit_type : string  (optional)\n",
    "        sets the type of fitting to use\n",
    "\n",
    "    Returns\n",
    "    -------\n",
    "    data : numpy, float\n",
    "        cleaned data\n",
    "    \"\"\"\n",
    "\n",
    "    # sets all non finite values to nan\n",
    "    data[~np.isfinite(data)] = np.nan\n",
    "    # function to interpolate missing points\n",
    "    data = interpolate_missing_points(data, fit_type)\n",
    "    # reshapes data to a consistent size\n",
    "    data = data.reshape(-1, data.shape[2])\n",
    "    return data\n",
    "\n",
    "\n",
    "def interpolate_missing_points(data, fit_type='spline'):\n",
    "    \"\"\"\n",
    "    Interpolates bad pixels in piezoelectric hysteresis loops.\\n\n",
    "    The interpolation of missing points allows for machine learning operations\n",
    "\n",
    "    Parameters\n",
    "    ----------\n",
    "    data : numpy array\n",
    "        array of loops\n",
    "    fit_type : string (optional)\n",
    "        selection of type of function for interpolation\n",
    "\n",
    "    Returns\n",
    "    -------\n",
    "    data_cleaned : numpy array\n",
    "        array of loops\n",
    "    \"\"\"\n",
    "\n",
    "    # reshapes the data such that it can run with different data sizes\n",
    "    if data.ndim == 2:\n",
    "        data = data.reshape(np.sqrt(data.shape[0]).astype(int),\n",
    "                            np.sqrt(data.shape[0]).astype(int), -1)\n",
    "        data = np.expand_dims(data, axis=3)\n",
    "    elif data.ndim == 3:\n",
    "        data = np.expand_dims(data, axis=3)\n",
    "\n",
    "    # creates a vector of the size of the data\n",
    "    point_values = np.linspace(0, 1, data.shape[2])\n",
    "\n",
    "    # Loops around the x index\n",
    "    for i in range(data.shape[0]):\n",
    "\n",
    "        # Loops around the y index\n",
    "        for j in range(data.shape[1]):\n",
    "\n",
    "            # Loops around the number of cycles\n",
    "            for k in range(data.shape[3]):\n",
    "\n",
    "                if any(~np.isfinite(data[i, j, :, k])):\n",
    "\n",
    "                    # selects the index where values are nan\n",
    "                    ind = np.where(np.isnan(data[i, j, :, k]))\n",
    "\n",
    "                    # if the first value is 0 copies the second value\n",
    "                    if 0 in np.asarray(ind):\n",
    "                        data[i, j, 0, k] = data[i, j, 1, k]\n",
    "\n",
    "                    # selects the values that are not nan\n",
    "                    true_ind = np.where(~np.isnan(data[i, j, :, k]))\n",
    "\n",
    "                    # for a spline fit\n",
    "                    if fit_type == 'spline':\n",
    "                        # does spline interpolation\n",
    "                        spline = interpolate.InterpolatedUnivariateSpline(point_values[true_ind],\n",
    "                                                                          data[i, j, true_ind, k].squeeze())\n",
    "                        data[i, j, ind, k] = spline(point_values[ind])\n",
    "\n",
    "                    # for a linear fit\n",
    "                    elif fit_type == 'linear':\n",
    "\n",
    "                        # does linear interpolation\n",
    "                        data[i, j, :, k] = np.interp(point_values,\n",
    "                                                     point_values[true_ind],\n",
    "                                                     data[i, j, true_ind, k].squeeze())\n",
    "\n",
    "    return data.squeeze()\n"
   ]
  },
  {
   "cell_type": "code",
   "execution_count": 5,
   "metadata": {},
   "outputs": [
    {
     "data": {
      "text/plain": [
       "array([[1316.56298484, 1316.85098085, 1316.4753691 , ..., 1317.9234046 ,\n",
       "        1318.10937733, 1318.03857044],\n",
       "       [1319.31182758, 1319.11098001, 1319.36025077, ..., 1320.27286958,\n",
       "        1320.16729895, 1320.17534472],\n",
       "       [1319.29792087, 1319.05178431, 1319.07999963, ..., 1319.37266502,\n",
       "        1319.58981849, 1319.87632619],\n",
       "       ...,\n",
       "       [1327.44357597, 1327.31951814, 1327.33201154, ..., 1327.70510708,\n",
       "        1327.78603897, 1327.80754424],\n",
       "       [1327.17790234, 1327.34066654, 1327.21556803, ..., 1327.87324892,\n",
       "        1327.72284503, 1327.75400904],\n",
       "       [1326.7496446 , 1326.96006052, 1326.98423162, ..., 1327.18681378,\n",
       "        1327.33968267, 1327.23022542]])"
      ]
     },
     "execution_count": 5,
     "metadata": {},
     "output_type": "execute_result"
    }
   ],
   "source": [
    "# These cleaning steps were also performed in [1,2]\n",
    "range_filter(raw['resonance'], [1300, 1340])          # \"Hard limit\" replace resonance values outside the specified range with NaN     \n",
    "range_filter(raw['val_resonance'], [1300, 1340])      # Same for the first cycle resonance\n",
    "clean_interpolate(raw['resonance'],'linear').reshape(-1, raw['resonance'].shape[2])    #Interpolate those NaNs"
   ]
  },
  {
   "cell_type": "markdown",
   "metadata": {},
   "source": [
    "# Extract and Format "
   ]
  },
  {
   "cell_type": "markdown",
   "metadata": {},
   "source": [
    "Extract the data we are interested in (second cycle) and put into a format we are more familiar with."
   ]
  },
  {
   "cell_type": "code",
   "execution_count": 6,
   "metadata": {},
   "outputs": [],
   "source": [
    "# extract the second cycle data (amplitude, phase, resonance, and Q)\n",
    "second_amp = np.reshape(raw['amplitude'],(3600,96))\n",
    "second_ph = np.reshape(raw['phase'],(3600,96))\n",
    "second_res = np.reshape(raw['resonance'],(3600,96))\n",
    "second_q = np.reshape(raw['quality_factor'],(3600,96))\n",
    "\n",
    "# Extract the provided \"optimal rotation angle\"\n",
    "opt_ang = np.reshape(imported['data']['optrotang_mixed'],(3600))\n",
    "\n",
    "# Resonstrcut the second cycle PR\n",
    "second_ph = second_ph+np.mean(opt_ang)\n",
    "second_pr = second_amp*np.cos(np.deg2rad(second_ph))\n",
    "\n",
    "#Extract voltage data\n",
    "v_cycle = imported['data']['VoltageDC_mixed'][:,0].squeeze()\n"
   ]
  },
  {
   "cell_type": "code",
   "execution_count": 7,
   "metadata": {},
   "outputs": [],
   "source": [
    "# Replace any infinte values in the amplitude/phase curves with NaN. NaNs can be ignored when taking the mean, infs can't.\n",
    "second_amp[~np.isfinite(second_amp)] = np.nan\n",
    "second_ph[~np.isfinite(second_ph)] = np.nan\n",
    "\n",
    "# Get the mean maps for plotting later\n",
    "sA_mean = np.nanmean(second_amp, axis=1)\n",
    "sP_mean = np.nanmean(second_ph, axis=1)\n",
    "sR_mean = np.nanmean(second_res, axis=1)\n",
    "sQ_mean = np.nanmean(second_q, axis=1)\n",
    "sPR_mean = np.nanmean(second_pr, axis=1)\n"
   ]
  },
  {
   "cell_type": "markdown",
   "metadata": {},
   "source": [
    "### Convert their data to a Pandas DataFrame"
   ]
  },
  {
   "cell_type": "code",
   "execution_count": 8,
   "metadata": {},
   "outputs": [],
   "source": [
    "all_second = np.hstack([second_res,second_pr])   # Here we are mostly looking at the piezoresponse and resonance data\n",
    "num_vars = 2    # That two variables\n",
    "\n",
    "#-------------Generate all of the various labels to use in the data frame\n",
    "times = 96\n",
    "all_vals = np.repeat('Res', times)\n",
    "for var in ['PR']:\n",
    "    varlist = np.repeat(var, times)\n",
    "    all_vals = np.hstack([all_vals,varlist])\n",
    "\n",
    "xvals = np.hstack([v_cycle,v_cycle])\n",
    "chirps = np.tile(np.arange(times),num_vars)\n",
    "inout = np.tile(np.full(times, 0),num_vars)\n",
    "plotgroup = np.tile(np.full(times, 0),num_vars)\n",
    "arrays =[all_vals,chirps,inout,plotgroup,xvals]\n",
    "\n",
    "cols = pd.MultiIndex.from_tuples(list(zip(*arrays)), names=['Vars', 'ChirpNum','InOut','PlotGroup','xaxis'])\n",
    "index = pd.Index(np.arange(3600).astype(int),name='Acq')\n",
    "#---------------\n",
    "\n",
    "# Create the dataframe\n",
    "second_data = pd.DataFrame(all_second, columns=cols, index=index)"
   ]
  },
  {
   "cell_type": "markdown",
   "metadata": {},
   "source": [
    "# Plot Code"
   ]
  },
  {
   "cell_type": "code",
   "execution_count": 9,
   "metadata": {},
   "outputs": [],
   "source": [
    "def plot_map(ax, clusters, cmap, norm):\n",
    "    im = ax.imshow(clusters, cmap=cmap, norm=norm, interpolation='none')\n",
    "    ax.set_xticks([])\n",
    "    ax.set_yticks([])\n",
    "    return im\n",
    "    \n",
    "def plot_comp(ax, i, centroids, cmap, kwargs_comps={}, kwargs_text={},labelpad=None, topPlot=False, conv=[6,0,4,5,3,1,7,2]):\n",
    "    voltages = data[var].columns.get_level_values('xaxis')\n",
    "    #ax.plot(voltages,std_mean[var][1]+std_mean[var][0]*(centroids[i]/1000), label=\"Cluster \" + str(i), color=cmap(i), **kwargs_comps)\n",
    "    \n",
    "    #plotdata = (centroids/np.mean(centroids)-1)*100\n",
    "    plotdata = centroids - np.mean(centroids)\n",
    "    #plotdata = centroids\n",
    "    \n",
    "    #if topPlot:\n",
    "    #    ax.plot(voltages,((plotdata[i]+second_offsets[var])), label=\"Cluster \" + str(i), color=cmap(i), **kwargs_comps)\n",
    "    #else:\n",
    "    #    ax.plot(voltages,((plotdata[i]+second_offsets[var])), label=\"Cluster \" + str(i), color=cmap(i), **kwargs_comps)\n",
    "    \n",
    "    j = conv[i]\n",
    "\n",
    "    if topPlot:\n",
    "        ax.plot(voltages,((plotdata[j])), label=\"Cluster \" + str(i), color=cmap(j), **kwargs_comps)\n",
    "    else:\n",
    "        ax.plot(voltages,((plotdata[j])), label=\"Cluster \" + str(i), color=cmap(j), **kwargs_comps)\n",
    "    \n",
    "    half_n = int(global_n/2)\n",
    "    \n",
    "    if i == half_n:\n",
    "        if topPlot:\n",
    "            ax.annotate('Voltage (V)',(-0.45,1.3),xycoords='axes fraction',**kwargs_text)\n",
    "        else:\n",
    "            ax.annotate('Voltage (V)',(-0.45,-0.35),xycoords='axes fraction',**kwargs_text)\n",
    "        \n",
    "    if topPlot:\n",
    "        ax.xaxis.set_label_position(\"top\")\n",
    "        ax.xaxis.set_ticks_position(\"top\")\n",
    "\n",
    "    plt.xticks(**kwargs_text)\n",
    "    \n",
    "    if i != global_n-1:\n",
    "        ax.set_yticks([])\n",
    "    else:\n",
    "        if not topPlot:\n",
    "            #ax.set_ylabel('Deviation. (kHz)', **kwargs_text)\n",
    "            #ax.annotate('Res. Deviation (kHz)', (1.5,0.4),xycoords='axes fraction', rotation='vertical', **kwargs_text)\n",
    "            ax.set_ylabel(r'$\\Delta \\omega$ (kHz)', **kwargs_text)\n",
    "        else:\n",
    "            ax.set_ylabel(r'$\\omega$ (kHz)', **kwargs_text)\n",
    "        #    ax.set_ylabel('Resonance (kHz)', **kwargs_text)\n",
    "        #    ax.annotate(str(int(np.mean(centroids)))+'+', (0.5,1.05),xycoords='axes fraction', rotation='horizontal', **kwargs_text)\n",
    "            ax.set_yticklabels(['','-5',r'$\\omega_0$','5'])\n",
    "        ax.yaxis.set_label_position(\"right\")\n",
    "        #ax.set_yticklabels('')\n",
    "        ax.yaxis.tick_right()\n",
    "        plt.yticks(**kwargs_text)\n",
    "        \n",
    "    ax.set_xticks([-10,10])\n",
    "\n",
    "def plot_all_kmeans(gs, clusters, centroids, kwargs_top_grid={'width_ratios': [0.235,1], 'height_ratios' : [1,0.05],'wspace' : 0.015},\n",
    "                                          kwargs_comp_grid={'width_ratios': np.repeat(1,global_n), 'wspace' : 0},\n",
    "                                          kwargs_text={},\n",
    "                                          kwargs_large_text={},\n",
    "                                          labelpad=None, topPlot=False, conv=[6,0,4,5,3,1,7,2]):\n",
    "    \n",
    "    fig = plt.gcf()\n",
    "    \n",
    "    #gs = fig.add_gridspec(1, 2, **kwargs_top_grid)\n",
    "    top_level_gs = gs.subgridspec(2, 2, **kwargs_top_grid)\n",
    "    gs_left = top_level_gs[0,1].subgridspec(1, global_n, **kwargs_comp_grid)\n",
    "    \n",
    "    ax = fig.add_subplot(top_level_gs[0])\n",
    "    im = plot_map(ax, clusters, cmap, norm)\n",
    "    \n",
    "    if topPlot:\n",
    "        ax.annotate('a.',(-0.22,0.9),xycoords='axes fraction',**kwargs_large_text)\n",
    "    else:\n",
    "        ax.annotate('c.',(-0.22,0.9),xycoords='axes fraction',**kwargs_large_text)\n",
    "    \n",
    "    ymin_list = []\n",
    "    ymax_list = []\n",
    "    ax_list = []\n",
    "        \n",
    "    for i in range(global_n):\n",
    "        \n",
    "        ax = fig.add_subplot(gs_left[i])\n",
    "        plot_comp(ax, i, centroids, cmap, labelpad=labelpad, topPlot=topPlot, kwargs_text=kwargs_text, conv=conv)\n",
    "        \n",
    "        if topPlot:\n",
    "            #ax.set_ylabel('')\n",
    "            ax.set_xlabel('')\n",
    "            #ax.set_xticklabels('')\n",
    "        \n",
    "        ymin, ymax = ax.get_ylim()\n",
    "        ymin_list.append(ymin)\n",
    "        ymax_list.append(ymax)\n",
    "        ax_list.append(ax)\n",
    "        #plt.ylim((1.315e6,1.331e6))\n",
    "        #plt.title(\"Cluster\" + str(i))\n",
    "        #plt.legend()#bbox_to_anchor=(1.4,1))\n",
    "    \n",
    "    for ax in ax_list:\n",
    "        yrange = np.abs(min(ymin_list)-max(ymax_list))\n",
    "        incr_range = yrange*0.08    \n",
    "        if topPlot:\n",
    "            ax.set_ylim([min(ymin_list)-incr_range,max(ymax_list)+incr_range])\n",
    "        else:\n",
    "            ax.set_ylim([-2.5,2.5])\n",
    "            #ax.set_ylim([min(ymin_list)-incr_range,max(ymax_list)+incr_range])\n",
    "        \n",
    "    #if not topPlot:\n",
    "    #    ax = fig.add_subplot(top_level_gs[1,0])\n",
    "    #    cb = plt.colorbar(im, cax=ax, orientation='horizontal',ticks=np.arange(global_n))\n",
    "        #cb.set_label(label='Cluster',**kwargs_text)\n",
    "    #    cb.ax.tick_params(labelsize=kwargs_text['fontsize'])\n",
    "\n",
    "def plot_mean_maps(gs, data, kwargs_top_grid={'width_ratios': [1,1,1,1], 'height_ratios' : [1], 'hspace':0.02 },kwargs_large_text={}):\n",
    "    \n",
    "    fig = plt.gcf()\n",
    "    \n",
    "    top_level_gs = gs.subgridspec(1, 4, **kwargs_top_grid)\n",
    "    \n",
    "    sub_labels = ['b.','d','e','f']\n",
    "    \n",
    "    for i, var in enumerate(data):\n",
    "        gs_map = top_level_gs[i].subgridspec(1, 2, width_ratios=[1,0.05],wspace=0.01)\n",
    "        ax = fig.add_subplot(gs_map[0])\n",
    "        cax = fig.add_subplot(gs_map[1])\n",
    "                \n",
    "        #if var is 'Amplitude (a.u.)':\n",
    "        if i == 0:\n",
    "            plot_data = data[var]*1e6\n",
    "        #elif var is r'Phase ($^\\circ$)':\n",
    "        elif i == 1:\n",
    "            plot_data = data[var] - np.min(data[var])\n",
    "        #elif var is 'Q (a.u.)':\n",
    "        elif i == 2:\n",
    "            plot_data = data[var]\n",
    "        #elif var is 'Resonance (kHz)':\n",
    "        elif i == 3:\n",
    "            plot_data = data[var]\n",
    "        \n",
    "        c_map_val = 'viridis'\n",
    "        \n",
    "        if i == 0:\n",
    "            im = ax.imshow(np.reshape(plot_data,(60,60)), cmap=c_map_val, vmin=25,vmax=102)\n",
    "        if i == 1:\n",
    "            im = ax.imshow(np.reshape(plot_data,(60,60)), cmap=c_map_val)\n",
    "        if i == 2:\n",
    "            im = ax.imshow(np.reshape(plot_data,(60,60)), cmap=c_map_val)\n",
    "        if i == 3:\n",
    "            im = ax.imshow(np.reshape(plot_data,(60,60)), cmap=c_map_val, vmin=1309,vmax=1331)\n",
    "        \n",
    "        ax.set_xticks([])\n",
    "        ax.set_yticks([])\n",
    "        \n",
    "        if i == 0 :\n",
    "            ax.annotate(sub_labels[i],(-0.205,0.9),xycoords='axes fraction',**kwargs_large_text)\n",
    "        \n",
    "        cbar = plt.colorbar(im, cax=cax, orientation='vertical')\n",
    "        ax.set_title(var,fontsize=9)\n",
    "        cbar.ax.tick_params(labelsize=8)\n",
    "        #cbar.ax.set_ylabel(var,fontsize=9)\n",
    "\n",
    "        if i == 0:\n",
    "        #    cbar = plt.colorbar(im, cax=cax, orientation='horizontal', label=var)\n",
    "            cbar.ax.set_ylim([25,102])\n",
    "            cbar.set_ticks([25,50,75,100])\n",
    "            cbar.set_ticklabels([25,50,75,100])\n",
    "            #cbar.set_ticks([30,50,70,90])\n",
    "            #cbar.set_ticklabels([30,50,70,90])\n",
    "        if i == 1:\n",
    "            #cbar = plt.colorbar(im, cax=cax, orientation='', label=var)\n",
    "            cbar.set_ticks([0,25,50,75,100,125])\n",
    "            cbar.set_ticklabels([0,25,50,75,100,125])\n",
    "        if i == 2:\n",
    "            #cbar = plt.colorbar(im, cax=cax, orientation='horizontal', label=var)\n",
    "            cbar.set_ticks([175,200,225,250])\n",
    "            cbar.set_ticklabels([175,200,225,250])\n",
    "        if i == 3:\n",
    "            #cbar = plt.colorbar(im, cax=cax, orientation='horizontal', label=var)\n",
    "            #cbar.set_ticks([1310,1315,1320,1325,1330])\n",
    "            #cbar.set_ticklabels([1310,1315,1320,1325,1330])\n",
    "            #cbar.ax.set_ylim([1309,1331])\n",
    "            cbar.set_ticks([1310,1315,1320,1325,1330])\n",
    "            cbar.set_ticklabels([1310,1315,1320,1325,1330])\n",
    "\n"
   ]
  },
  {
   "cell_type": "markdown",
   "metadata": {},
   "source": [
    "# Run our Analysis"
   ]
  },
  {
   "cell_type": "markdown",
   "metadata": {},
   "source": [
    "#### K-means without Mean Removed"
   ]
  },
  {
   "cell_type": "code",
   "execution_count": 10,
   "metadata": {
    "scrolled": false
   },
   "outputs": [],
   "source": [
    "# Run kmeans\n",
    "var = ['Res']         # Variable to run\n",
    "data = second_data    # Data to run\n",
    "voltages = v_cycle    # x-axis data, i.e. voltages\n",
    "\n",
    "orig_shape = [60,60]\n",
    "nclusters = global_n\n",
    "voltages = data[var].columns.get_level_values('xaxis')\n",
    "\n",
    "kmeans = KMeans(n_clusters=nclusters, random_state=0).fit(data[var])\n",
    "clus_wo_mean_removal = kmeans.labels_.reshape((orig_shape[0], orig_shape[1]))\n",
    "cent_wo_mean_removal = kmeans.cluster_centers_"
   ]
  },
  {
   "cell_type": "markdown",
   "metadata": {},
   "source": [
    "#### K-means with Mean Removed"
   ]
  },
  {
   "cell_type": "code",
   "execution_count": 11,
   "metadata": {},
   "outputs": [],
   "source": [
    "# For each row of data (i.e. spatial point), remove the mean of the row\n",
    "second_data['Res'] = second_data['Res'].apply(lambda x: x-x.mean(), axis=1)\n",
    "second_data['PR'] = second_data['PR'].apply(lambda x: x-x.mean(), axis=1)"
   ]
  },
  {
   "cell_type": "code",
   "execution_count": 12,
   "metadata": {},
   "outputs": [],
   "source": [
    "# Run kmeans\n",
    "var = ['Res']         # Variable to run\n",
    "data = second_data    # Data to run\n",
    "voltages = v_cycle    # x-axis data, i.e. voltages\n",
    "\n",
    "orig_shape = [60,60]\n",
    "nclusters = global_n\n",
    "voltages = data[var].columns.get_level_values('xaxis')\n",
    "\n",
    "kmeans = KMeans(n_clusters=nclusters, random_state=0).fit(data[var])\n",
    "clus_mean_removal = kmeans.labels_.reshape((orig_shape[0], orig_shape[1]))\n",
    "cent_mean_removal = kmeans.cluster_centers_"
   ]
  },
  {
   "cell_type": "code",
   "execution_count": 13,
   "metadata": {},
   "outputs": [],
   "source": [
    "#make a nice color map\n",
    "my_colors = ['tab:red', 'tab:orange', 'tab:green', 'tab:cyan', 'tab:blue', 'tab:purple', 'tab:pink','tab:gray']\n",
    "new_colors = np.asarray(['navy', 'cornflowerblue', 'mediumorchid', 'limegreen', 'cyan', 'gold', 'tomato','black'])\n",
    "new_colors[[6,0,5,2,7,4,1,3]] = my_colors\n",
    "my_colors = new_colors\n",
    "    \n",
    "cmap = matplotlib.colors.ListedColormap(my_colors)\n",
    "boundaries = np.arange(len(my_colors)+1)-0.5\n",
    "norm = matplotlib.colors.BoundaryNorm(boundaries, cmap.N, clip=True)"
   ]
  },
  {
   "cell_type": "code",
   "execution_count": 14,
   "metadata": {},
   "outputs": [],
   "source": [
    "import matplotlib.gridspec as gridspec"
   ]
  },
  {
   "cell_type": "code",
   "execution_count": 15,
   "metadata": {},
   "outputs": [
    {
     "data": {
      "image/png": "[encoded data removed]",
      "text/plain": [
       "<Figure size 576x360 with 26 Axes>"
      ]
     },
     "metadata": {
      "needs_background": "light"
     },
     "output_type": "display_data"
    }
   ],
   "source": [
    "#Plot!!!\n",
    "fig = plt.figure(figsize=(8,5))\n",
    "gs = fig.add_gridspec(3, 1, height_ratios=[0.65,0.62,0.65], hspace=0.1)\n",
    "\n",
    "plot_all_kmeans(gs[0], clus_wo_mean_removal, cent_wo_mean_removal, labelpad=6, kwargs_text={'fontsize' : 9}, topPlot=True, kwargs_large_text={'fontsize':12,'color':'k','fontweight':'bold', 'color':'k'},conv=[6,0,5,2,7,4,1,3])\n",
    "plot_all_kmeans(gs[2], clus_mean_removal, cent_mean_removal, labelpad=100, kwargs_text={'fontsize' : 9}, kwargs_large_text={'fontsize':12,'color':'k','fontweight':'bold', 'color':'k'},conv=[6,0,5,2,7,4,1,3])\n",
    "\n",
    "plot_mean_maps(gs[1], {r'Amplitude ($\\mu$V)':sA_mean,r'Phase ($^\\circ$)':sP_mean,'Q (a.u.)':sQ_mean,'Resonance (kHz)':sR_mean}, kwargs_large_text={'fontsize':12,'color':'k','fontweight':'bold'})"
   ]
  },
  {
   "cell_type": "code",
   "execution_count": 15,
   "metadata": {},
   "outputs": [],
   "source": [
    "#Save!\n",
    "fig.tight_layout()\n",
    "fig.savefig(savebase+'kmeans_second'+'.eps', format='eps', dpi=500)\n",
    "fig.savefig(savebase+'kmeans_second'+'.png', format='png', dpi=500)"
   ]
  }
 ],
 "metadata": {
  "kernelspec": {
   "display_name": "Python tensorflow_2_1",
   "language": "python",
   "name": "tf-2_1"
  },
  "language_info": {
   "codemirror_mode": {
    "name": "ipython",
    "version": 3
   },
   "file_extension": ".py",
   "mimetype": "text/x-python",
   "name": "python",
   "nbconvert_exporter": "python",
   "pygments_lexer": "ipython3",
   "version": "3.7.4"
  }
 },
 "nbformat": 4,
 "nbformat_minor": 2
}
